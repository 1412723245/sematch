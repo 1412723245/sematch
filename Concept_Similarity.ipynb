{
 "cells": [
  {
   "cell_type": "markdown",
   "metadata": {},
   "source": [
    "### Introduction"
   ]
  },
  {
   "cell_type": "markdown",
   "metadata": {},
   "source": [
    "Concetual similarity based on a specific concept taxonomy is useful for many applications. For example, in document analysis, a conceptual graph can be constructed based on the concepts in the document, so important concepts or the main topics of the document can be identified using graph-based analysis techniques. One type of conceptual graph is concept similarity graph which is constructed from computing semantic similarity between concepts. \n",
    "\n",
    "To facilitate the computation of semantic similarity, we have implemented a Taxonomy interface and several state of art semantic similarity metrics based on the Taxonomy interfaces. In this notebook, we are going to show how to implement semantic similarity computation using our implementation. Basically, you need to implement the DataTransform interface. We are going to show the implementation of DBpedia ontology classes, Wikipedia category taxonomy, the Medical Subject Headings, using Sematch. Similar method can be applied to other hiearchical concepts such as Open Directory Project, the ACM Term Classification and many others."
   ]
  },
  {
   "cell_type": "markdown",
   "metadata": {},
   "source": [
    "#### DBpedia Ontology Class Taxonomy"
   ]
  },
  {
   "cell_type": "markdown",
   "metadata": {},
   "source": [
    "To compute semantic similarity between concepts in DBpedia ontology classes. First, transform the ontology classes into tuples of nodes, edges and labels. Second, use taxonomy module to parse the tuples. Finally, compute the conceptual similarity using ConceptSimilarity module."
   ]
  },
  {
   "cell_type": "code",
   "execution_count": 2,
   "metadata": {
    "collapsed": false
   },
   "outputs": [
    {
     "name": "stdout",
     "output_type": "stream",
     "text": [
      "1.0\n",
      "0.2\n",
      "0.333333333333\n",
      "0.241311925619\n",
      "0.0\n",
      "0.0\n",
      "0.2\n"
     ]
    }
   ],
   "source": [
    "from sematch.semantic.graph import DataTransform, Taxonomy\n",
    "from sematch.semantic.similarity import ConceptSimilarity\n",
    "from sematch.ontology import DBpedia\n",
    "\n",
    "\n",
    "class DBpediaDataTransform(DataTransform):\n",
    "\n",
    "    def __init__(self):\n",
    "        self._ontology = DBpedia()\n",
    "\n",
    "    def transform(self):\n",
    "        nodes =  map(lambda x:x.toPython(), self._ontology.classes)\n",
    "        node_id = {n:i for i,n in enumerate(nodes)}\n",
    "        labels = [self._ontology.token(value) for i,value in enumerate(self._ontology.classes)]\n",
    "        edges = []\n",
    "        for i, node in enumerate(nodes):\n",
    "            children = self._ontology.subClass(node)\n",
    "            children = [child for child in children if child in nodes]\n",
    "            children_ids = map(lambda x:node_id[x], children)\n",
    "            for child_id in children_ids:\n",
    "                edges.append((i, child_id))\n",
    "        return nodes, labels, edges\n",
    "\n",
    "concept_sim = ConceptSimilarity(Taxonomy(DBpediaDataTransform()), 'models/dbpedia_type_ic.txt')\n",
    "\n",
    "c1 = concet_sim.name2concept('species')\n",
    "c2 = concet_sim.name2concept('organ')\n",
    "print concept_sim.path(c1, c1)\n",
    "print concept_sim.path(c1, c2)\n",
    "print concept_sim.wup(c1,c2)\n",
    "print concept_sim.li(c1, c2)\n",
    "print concept_sim.res(c1,c2)\n",
    "print concept_sim.jcn(c1, c2)\n",
    "print concept_sim.wpath(c1,c2)"
   ]
  }
 ],
 "metadata": {
  "kernelspec": {
   "display_name": "Python 2",
   "language": "python",
   "name": "python2"
  },
  "language_info": {
   "codemirror_mode": {
    "name": "ipython",
    "version": 2
   },
   "file_extension": ".py",
   "mimetype": "text/x-python",
   "name": "python",
   "nbconvert_exporter": "python",
   "pygments_lexer": "ipython2",
   "version": "2.7.6"
  }
 },
 "nbformat": 4,
 "nbformat_minor": 0
}
