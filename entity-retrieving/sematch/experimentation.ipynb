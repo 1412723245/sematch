{
 "worksheets": [
  {
   "cells": [
    {
     "cell_type": "code",
     "metadata": {},
     "outputs": [],
     "input": [
      "# This line configures matplotlib to show figures embedded in the notebook, instead of opening a new window for each figure.\n",
      "%matplotlib inline"
     ],
     "language": "python",
     "prompt_number": 4
    },
    {
     "cell_type": "code",
     "metadata": {},
     "outputs": [],
     "input": [
      "from pylab import *"
     ],
     "language": "python",
     "prompt_number": 6
    },
    {
     "cell_type": "code",
     "metadata": {},
     "outputs": [],
     "input": [
      "x = linspace(0, 5, 10)\n",
      "y = x ** 2"
     ],
     "language": "python",
     "prompt_number": 8
    },
    {
     "cell_type": "code",
     "metadata": {},
     "outputs": [
      {
       "output_type": "display_data",
       "png": "[encoded data removed]",
       "text": [
        "<matplotlib.figure.Figure at 0x1045e6ad0>"
       ],
       "metadata": {}
      }
     ],
     "input": [
      "figure()\n",
      "plot(x, y, 'r')\n",
      "xlabel('x')\n",
      "ylabel('y')\n",
      "title('title')\n",
      "show()"
     ],
     "language": "python",
     "prompt_number": 10
    },
    {
     "cell_type": "code",
     "metadata": {},
     "outputs": [
      {
       "output_type": "display_data",
       "png": "[encoded data removed]",
       "text": [
        "<matplotlib.figure.Figure at 0x1046a4e10>"
       ],
       "metadata": {}
      }
     ],
     "input": [
      "subplot(1,2,1)\n",
      "plot(x, y, 'r--')\n",
      "subplot(1,2,2)\n",
      "plot(y, x, 'g*-');"
     ],
     "language": "python",
     "prompt_number": 11
    },
    {
     "cell_type": "code",
     "metadata": {},
     "outputs": [],
     "input": [
      "query_collection = [\n",
      "    'vietnam travel national park',\n",
      "    'vietnam travel airports',\n",
      "    'Indian food',\n",
      "    'Neil Gaiman novels',\n",
      "    'films shot in Venice',\n",
      "    'Works by Charles Rennie Mackintosh',\n",
      "    'List of countries in World War Two',\n",
      "    'Paul Auster novels',\n",
      "    'State capitals of the United States of America',\n",
      "    'Novels that won the Booker Prize',\n",
      "    'countries which have won the FIFA world cup',\n",
      "    'EU countries',\n",
      "    'Films directed by Akira Kurosawa',\n",
      "    'Airports in Germany',\n",
      "    'Universities in Catalunya',\n",
      "    'Give me all professional skateboarders from Sweden',\n",
      "    'Give me all cars that are produced in Germany',\n",
      "    'Give me all movies directed by Francis Ford Coppola',\n",
      "    'Give me all companies in Munich',\n",
      "    'Give me a list of all lakes in Denmark',\n",
      "    'Give me all Argentine films',\n",
      "    'Give me a list of all American inventions',\n",
      "    'Give me the capitals of all countries in Africa',\n",
      "    'Give me all presidents of the United States',\n",
      "    'Give me all actors starring in Batman Begins',\n",
      "    'Which actors were born in Germany?',\n",
      "    'Give me all films produced by Hal Roach',\n",
      "    'Give me all books written by Danielle Steel',\n",
      "    'Give me all movies with Tom Cruise'\n",
      "]"
     ],
     "language": "python",
     "prompt_number": 2
    },
    {
     "cell_type": "code",
     "metadata": {},
     "outputs": [
      {
       "ename": "ImportError",
       "evalue": "No module named sematch",
       "output_type": "pyerr",
       "traceback": [
        "\u001b[0;31m---------------------------------------------------------------------------\u001b[0m\n\u001b[0;31mImportError\u001b[0m                               Traceback (most recent call last)",
        "\u001b[0;32m<ipython-input-3-226a4bf4d677>\u001b[0m in \u001b[0;36m<module>\u001b[0;34m()\u001b[0m\n\u001b[0;32m----> 1\u001b[0;31m \u001b[0;32mfrom\u001b[0m \u001b[0msematch\u001b[0m \u001b[0;32mimport\u001b[0m \u001b[0mQueryProcessing\u001b[0m\u001b[0;34m\u001b[0m\u001b[0m\n\u001b[0m\u001b[1;32m      2\u001b[0m \u001b[0;32mfrom\u001b[0m \u001b[0msematch\u001b[0m \u001b[0;32mimport\u001b[0m \u001b[0mEntityLinkers\u001b[0m\u001b[0;34m\u001b[0m\u001b[0m\n\u001b[1;32m      3\u001b[0m \u001b[0;34m\u001b[0m\u001b[0m\n\u001b[1;32m      4\u001b[0m \u001b[0mquery\u001b[0m \u001b[0;34m=\u001b[0m \u001b[0mQueryProcessing\u001b[0m\u001b[0;34m.\u001b[0m\u001b[0mQuery\u001b[0m\u001b[0;34m(\u001b[0m\u001b[0;34m)\u001b[0m\u001b[0;34m\u001b[0m\u001b[0m\n\u001b[1;32m      5\u001b[0m \u001b[0mspotlight\u001b[0m \u001b[0;34m=\u001b[0m \u001b[0mEntityLinkers\u001b[0m\u001b[0;34m.\u001b[0m\u001b[0mDBpediaSpotlight\u001b[0m\u001b[0;34m(\u001b[0m\u001b[0;34m)\u001b[0m\u001b[0;34m\u001b[0m\u001b[0m\n",
        "\u001b[0;31mImportError\u001b[0m: No module named sematch"
       ]
      }
     ],
     "input": [
      "from sematch import QueryProcessing\n",
      "from sematch import EntityLinkers\n",
      "\n",
      "query = QueryProcessing.Query()\n",
      "spotlight = EntityLinkers.DBpediaSpotlight()\n",
      "for i in range(29):\n",
      "    print i, '\\t', test_collection[i]\n",
      "    print spotlight.annotate(test_collection[i])\n",
      "    print query.ner(test_collection[i])"
     ],
     "language": "python",
     "prompt_number": 3
    },
    {
     "cell_type": "code",
     "metadata": {},
     "outputs": [],
     "input": [
      ""
     ],
     "language": "python"
    }
   ]
  }
 ],
 "cells": [],
 "metadata": {
  "name": "",
  "signature": "sha256:76796315d7ef26445901ba39c2790944fda028c1d9bdfec077cdf3f36fc1422a"
 },
 "nbformat": 3,
 "nbformat_minor": 0
}