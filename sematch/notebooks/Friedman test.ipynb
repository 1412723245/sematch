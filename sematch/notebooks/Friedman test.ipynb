{
 "cells": [
  {
   "cell_type": "code",
   "execution_count": 1,
   "metadata": {
    "collapsed": false
   },
   "outputs": [],
   "source": [
    "from math import sqrt\n",
    "import numpy as np\n",
    "import pandas as pd\n",
    "\n",
    "from scipy.stats import f,friedmanchisquare, rankdata\n",
    "from __future__ import division"
   ]
  },
  {
   "cell_type": "markdown",
   "metadata": {},
   "source": [
    "# Friedman Test"
   ]
  },
  {
   "cell_type": "code",
   "execution_count": 2,
   "metadata": {
    "collapsed": false
   },
   "outputs": [],
   "source": [
    "def X_F_sqr(k,N,R):\n",
    "    return ((12*N)/(k*(k+1)))*(np.sum(R**2)-(k*(k+1)**2)/4)\n",
    "\n",
    "def F_F(k,N,X_F):\n",
    "    return ((N-1)*X_F)/(N*(k-1)-X_F)\n",
    "\n",
    "def critical_value(k, N, a=0.05):\n",
    "    d1 = k - 1\n",
    "    d2 = (k-1)*(N-1)\n",
    "    return f.isf(a, d1, d2)\n",
    "\n",
    "def cd(k,N,q_a):\n",
    "    return q_a * sqrt((k*(k+1))/(6*N))"
   ]
  },
  {
   "cell_type": "code",
   "execution_count": 3,
   "metadata": {
    "collapsed": false
   },
   "outputs": [
    {
     "data": {
      "text/html": [
       "<div>\n",
       "<table border=\"1\" class=\"dataframe\">\n",
       "  <thead>\n",
       "    <tr style=\"text-align: right;\">\n",
       "      <th></th>\n",
       "      <th>Dataset</th>\n",
       "      <th>M_G</th>\n",
       "      <th>CEM_SG_Vo</th>\n",
       "      <th>CEM_SG_MeL</th>\n",
       "      <th>M_SG</th>\n",
       "      <th>M_GA</th>\n",
       "      <th>M_SGA</th>\n",
       "      <th>CEM_SGA_Vo</th>\n",
       "      <th>CEM_SGA_MeL</th>\n",
       "    </tr>\n",
       "  </thead>\n",
       "  <tbody>\n",
       "    <tr>\n",
       "      <th>0</th>\n",
       "      <td>SemEval2013</td>\n",
       "      <td>85.34</td>\n",
       "      <td>87.78</td>\n",
       "      <td>87.87</td>\n",
       "      <td>86.36</td>\n",
       "      <td>87.54</td>\n",
       "      <td>86.26</td>\n",
       "      <td>86.26</td>\n",
       "      <td>86.97</td>\n",
       "    </tr>\n",
       "    <tr>\n",
       "      <th>1</th>\n",
       "      <td>SemEval2014</td>\n",
       "      <td>86.16</td>\n",
       "      <td>84.16</td>\n",
       "      <td>87.63</td>\n",
       "      <td>87.03</td>\n",
       "      <td>88.05</td>\n",
       "      <td>86.94</td>\n",
       "      <td>85.90</td>\n",
       "      <td>88.07</td>\n",
       "    </tr>\n",
       "    <tr>\n",
       "      <th>2</th>\n",
       "      <td>Vader</td>\n",
       "      <td>87.71</td>\n",
       "      <td>87.92</td>\n",
       "      <td>88.85</td>\n",
       "      <td>88.07</td>\n",
       "      <td>88.89</td>\n",
       "      <td>88.89</td>\n",
       "      <td>89.52</td>\n",
       "      <td>89.48</td>\n",
       "    </tr>\n",
       "    <tr>\n",
       "      <th>3</th>\n",
       "      <td>STS</td>\n",
       "      <td>83.43</td>\n",
       "      <td>83.52</td>\n",
       "      <td>84.56</td>\n",
       "      <td>84.73</td>\n",
       "      <td>85.27</td>\n",
       "      <td>85.26</td>\n",
       "      <td>87.08</td>\n",
       "      <td>85.59</td>\n",
       "    </tr>\n",
       "  </tbody>\n",
       "</table>\n",
       "</div>"
      ],
      "text/plain": [
       "       Dataset    M_G  CEM_SG_Vo  CEM_SG_MeL   M_SG   M_GA  M_SGA  CEM_SGA_Vo  \\\n",
       "0  SemEval2013  85.34      87.78       87.87  86.36  87.54  86.26       86.26   \n",
       "1  SemEval2014  86.16      84.16       87.63  87.03  88.05  86.94       85.90   \n",
       "2        Vader  87.71      87.92       88.85  88.07  88.89  88.89       89.52   \n",
       "3          STS  83.43      83.52       84.56  84.73  85.27  85.26       87.08   \n",
       "\n",
       "   CEM_SGA_MeL  \n",
       "0        86.97  \n",
       "1        88.07  \n",
       "2        89.48  \n",
       "3        85.59  "
      ]
     },
     "execution_count": 3,
     "metadata": {},
     "output_type": "execute_result"
    }
   ],
   "source": [
    "scores = pd.read_csv('./scores.csv')\n",
    "classifiers = list(set(scores.columns) - set(['Dataset']))\n",
    "#scores_data = scores[classifiers].values\n",
    "scores_data = scores[list(scores.columns)[1:]].values\n",
    "scores"
   ]
  },
  {
   "cell_type": "code",
   "execution_count": 4,
   "metadata": {
    "collapsed": false
   },
   "outputs": [
    {
     "name": "stdout",
     "output_type": "stream",
     "text": [
      "k: 8       N: 4       a: 0.1\n",
      "chi2:  13.4791666667\n",
      "Friedman's F:  2.78479196557\n",
      "F(7,21)|0.1:  2.02325229746\n"
     ]
    }
   ],
   "source": [
    "# parameters\n",
    "k = scores_data.shape[1]\n",
    "N=scores_data.shape[0]\n",
    "a = 0.1\n",
    "\n",
    "ranks = np.zeros(scores_data.shape)\n",
    "for i,scores_ in enumerate(scores_data):\n",
    "    ranks[i] = len(scores_)+1 - rankdata(scores_)\n",
    "    \n",
    "R = np.average(ranks, axis=0)\n",
    "\n",
    "X_F = X_F_sqr(k=k,N=N,R=R)\n",
    "print('k:', k, ' '*5, 'N:', N, ' '*5, 'a:', a)\n",
    "print('chi2: ', X_F)\n",
    "print(\"Friedman's F: \", F_F(k=k,N=N,X_F=X_F))\n",
    "print('F({},{})|{}: '.format(k-1,(k-1)*(N-1),a), critical_value(k=k,N=N, a=a))"
   ]
  },
  {
   "cell_type": "code",
   "execution_count": 5,
   "metadata": {
    "collapsed": false
   },
   "outputs": [
    {
     "data": {
      "text/html": [
       "<div>\n",
       "<table border=\"1\" class=\"dataframe\">\n",
       "  <thead>\n",
       "    <tr style=\"text-align: right;\">\n",
       "      <th></th>\n",
       "      <th>M_G</th>\n",
       "      <th>CEM_SG_Vo</th>\n",
       "      <th>CEM_SG_MeL</th>\n",
       "      <th>M_SG</th>\n",
       "      <th>M_GA</th>\n",
       "      <th>M_SGA</th>\n",
       "      <th>CEM_SGA_Vo</th>\n",
       "      <th>CEM_SGA_MeL</th>\n",
       "    </tr>\n",
       "  </thead>\n",
       "  <tbody>\n",
       "    <tr>\n",
       "      <th>0</th>\n",
       "      <td>7.5</td>\n",
       "      <td>6</td>\n",
       "      <td>3.75</td>\n",
       "      <td>5</td>\n",
       "      <td>2.875</td>\n",
       "      <td>4.75</td>\n",
       "      <td>3.875</td>\n",
       "      <td>2.25</td>\n",
       "    </tr>\n",
       "  </tbody>\n",
       "</table>\n",
       "</div>"
      ],
      "text/plain": [
       "   M_G CEM_SG_Vo CEM_SG_MeL M_SG   M_GA M_SGA CEM_SGA_Vo CEM_SGA_MeL\n",
       "0  7.5         6       3.75    5  2.875  4.75      3.875        2.25"
      ]
     },
     "execution_count": 5,
     "metadata": {},
     "output_type": "execute_result"
    }
   ],
   "source": [
    "t = pd.DataFrame(columns=list(scores.columns)[1:], index=[0])\n",
    "t.ix[0] = R\n",
    "t"
   ]
  },
  {
   "cell_type": "markdown",
   "metadata": {},
   "source": [
    "## Bonferroni-Dunn test"
   ]
  },
  {
   "cell_type": "code",
   "execution_count": 6,
   "metadata": {
    "collapsed": false
   },
   "outputs": [
    {
     "name": "stdout",
     "output_type": "stream",
     "text": [
      "CD = 4.243524478543749\n"
     ]
    },
    {
     "data": {
      "text/html": [
       "<div>\n",
       "<table border=\"1\" class=\"dataframe\">\n",
       "  <thead>\n",
       "    <tr style=\"text-align: right;\">\n",
       "      <th></th>\n",
       "      <th>M_G</th>\n",
       "      <th>CEM_SG_Vo</th>\n",
       "      <th>CEM_SG_MeL</th>\n",
       "      <th>M_SG</th>\n",
       "      <th>M_GA</th>\n",
       "      <th>M_SGA</th>\n",
       "      <th>CEM_SGA_Vo</th>\n",
       "      <th>CEM_SGA_MeL</th>\n",
       "    </tr>\n",
       "  </thead>\n",
       "  <tbody>\n",
       "    <tr>\n",
       "      <th>0</th>\n",
       "      <td>0.0</td>\n",
       "      <td>0.0</td>\n",
       "      <td>0.00</td>\n",
       "      <td>0.0</td>\n",
       "      <td>1.000</td>\n",
       "      <td>0.00</td>\n",
       "      <td>0.000</td>\n",
       "      <td>1.00</td>\n",
       "    </tr>\n",
       "    <tr>\n",
       "      <th>1</th>\n",
       "      <td>0.0</td>\n",
       "      <td>1.5</td>\n",
       "      <td>3.75</td>\n",
       "      <td>2.5</td>\n",
       "      <td>4.625</td>\n",
       "      <td>2.75</td>\n",
       "      <td>3.625</td>\n",
       "      <td>5.25</td>\n",
       "    </tr>\n",
       "  </tbody>\n",
       "</table>\n",
       "</div>"
      ],
      "text/plain": [
       "   M_G  CEM_SG_Vo  CEM_SG_MeL  M_SG   M_GA  M_SGA  CEM_SGA_Vo  CEM_SGA_MeL\n",
       "0  0.0        0.0        0.00   0.0  1.000   0.00       0.000         1.00\n",
       "1  0.0        1.5        3.75   2.5  4.625   2.75       3.625         5.25"
      ]
     },
     "execution_count": 6,
     "metadata": {},
     "output_type": "execute_result"
    }
   ],
   "source": [
    "q_a = 2.450 # alpha = 0.1\n",
    "baseline = 'M_G'\n",
    "crit_diff = cd(k,N,q_a)\n",
    "print('CD =', crit_diff)\n",
    "\n",
    "bon_dunn = (t['M_G'].ix[0] - t > crit_diff) \n",
    "bon_dunn.ix[1] = (t['M_G'].ix[0] - t).values[0]\n",
    "bon_dunn"
   ]
  },
  {
   "cell_type": "code",
   "execution_count": 7,
   "metadata": {
    "collapsed": false
   },
   "outputs": [
    {
     "data": {
      "text/html": [
       "<div>\n",
       "<table border=\"1\" class=\"dataframe\">\n",
       "  <thead>\n",
       "    <tr style=\"text-align: right;\">\n",
       "      <th></th>\n",
       "      <th>CEM_SGA_MeL</th>\n",
       "      <th>M_G</th>\n",
       "      <th>M_SGA</th>\n",
       "      <th>M_GA</th>\n",
       "      <th>CEM_SG_Vo</th>\n",
       "      <th>CEM_SG_MeL</th>\n",
       "      <th>M_SG</th>\n",
       "      <th>CEM_SGA_Vo</th>\n",
       "    </tr>\n",
       "  </thead>\n",
       "  <tbody>\n",
       "    <tr>\n",
       "      <th>0</th>\n",
       "      <td>86.97</td>\n",
       "      <td>85.34</td>\n",
       "      <td>86.26</td>\n",
       "      <td>87.54</td>\n",
       "      <td>87.78</td>\n",
       "      <td>87.87</td>\n",
       "      <td>86.36</td>\n",
       "      <td>86.26</td>\n",
       "    </tr>\n",
       "    <tr>\n",
       "      <th>1</th>\n",
       "      <td>88.07</td>\n",
       "      <td>86.16</td>\n",
       "      <td>86.94</td>\n",
       "      <td>88.05</td>\n",
       "      <td>84.16</td>\n",
       "      <td>87.63</td>\n",
       "      <td>87.03</td>\n",
       "      <td>85.90</td>\n",
       "    </tr>\n",
       "    <tr>\n",
       "      <th>2</th>\n",
       "      <td>89.48</td>\n",
       "      <td>87.71</td>\n",
       "      <td>88.89</td>\n",
       "      <td>88.89</td>\n",
       "      <td>87.92</td>\n",
       "      <td>88.85</td>\n",
       "      <td>88.07</td>\n",
       "      <td>89.52</td>\n",
       "    </tr>\n",
       "    <tr>\n",
       "      <th>3</th>\n",
       "      <td>85.59</td>\n",
       "      <td>83.43</td>\n",
       "      <td>85.26</td>\n",
       "      <td>85.27</td>\n",
       "      <td>83.52</td>\n",
       "      <td>84.56</td>\n",
       "      <td>84.73</td>\n",
       "      <td>87.08</td>\n",
       "    </tr>\n",
       "  </tbody>\n",
       "</table>\n",
       "</div>"
      ],
      "text/plain": [
       "   CEM_SGA_MeL    M_G  M_SGA   M_GA  CEM_SG_Vo  CEM_SG_MeL   M_SG  CEM_SGA_Vo\n",
       "0        86.97  85.34  86.26  87.54      87.78       87.87  86.36       86.26\n",
       "1        88.07  86.16  86.94  88.05      84.16       87.63  87.03       85.90\n",
       "2        89.48  87.71  88.89  88.89      87.92       88.85  88.07       89.52\n",
       "3        85.59  83.43  85.26  85.27      83.52       84.56  84.73       87.08"
      ]
     },
     "execution_count": 7,
     "metadata": {},
     "output_type": "execute_result"
    }
   ],
   "source": [
    "scores[classifiers]"
   ]
  },
  {
   "cell_type": "code",
   "execution_count": 8,
   "metadata": {
    "collapsed": false
   },
   "outputs": [
    {
     "data": {
      "text/plain": [
       "(18.599999999999994, 0.00033072142736429084)"
      ]
     },
     "execution_count": 8,
     "metadata": {},
     "output_type": "execute_result"
    }
   ],
   "source": [
    "friedmanchisquare(*scores[classifiers].values[:4])"
   ]
  }
 ],
 "metadata": {
  "kernelspec": {
   "display_name": "Python 3",
   "language": "python",
   "name": "python3"
  },
  "language_info": {
   "codemirror_mode": {
    "name": "ipython",
    "version": 3.0
   },
   "file_extension": ".py",
   "mimetype": "text/x-python",
   "name": "python",
   "nbconvert_exporter": "python",
   "pygments_lexer": "ipython3",
   "version": "3.4.3+"
  }
 },
 "nbformat": 4,
 "nbformat_minor": 0
}