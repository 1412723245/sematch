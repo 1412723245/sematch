{
 "cells": [
  {
   "cell_type": "code",
   "execution_count": 1,
   "metadata": {
    "collapsed": true
   },
   "outputs": [],
   "source": [
    "from gensim.models.doc2vec import Doc2Vec, TaggedDocument\n",
    "import json\n",
    "import logging\n",
    "logging.basicConfig(format='%(levelname)s : %(message)s', level=logging.INFO)\n",
    "logging.root.level = logging.INFO"
   ]
  },
  {
   "cell_type": "code",
   "execution_count": null,
   "metadata": {
    "collapsed": true
   },
   "outputs": [],
   "source": [
    "class SentenceCat(object):\n",
    "\n",
    "    def __init__(self):\n",
    "        self.corpus = 'cat_corpus.json'\n",
    "        \n",
    "    def __iter__(self):\n",
    "        with open(self.corpus, 'r') as f:\n",
    "            for line in f:\n",
    "                data = json.loads(line)\n",
    "                abstract = data['desc']\n",
    "                cat_labels = data['category']\n",
    "                yield TaggedDocument(words=abstract.split(), tags=cat_labels)"
   ]
  },
  {
   "cell_type": "code",
   "execution_count": 6,
   "metadata": {
    "collapsed": true
   },
   "outputs": [],
   "source": [
    "class SentenceType(object):\n",
    "    \n",
    "    def __init__(self):\n",
    "        self.corpus = 'type_corpus.json'\n",
    "    \n",
    "    def __iter__(self):\n",
    "        with open(self.corpus,'r') as f:\n",
    "            for line in f:\n",
    "                data = json.loads(line)\n",
    "                abstract = data['desc']\n",
    "                type_label = data['type']\n",
    "                yield TaggedDocument(words=abstract.split(), tags=[type_label])"
   ]
  },
  {
   "cell_type": "code",
   "execution_count": 28,
   "metadata": {
    "collapsed": false
   },
   "outputs": [],
   "source": [
    "sentences = SentenceType()"
   ]
  },
  {
   "cell_type": "code",
   "execution_count": 29,
   "metadata": {
    "collapsed": true
   },
   "outputs": [],
   "source": [
    "model = Doc2Vec(sentences, size=200, min_count=20, window=10, workers=10)"
   ]
  },
  {
   "cell_type": "code",
   "execution_count": 40,
   "metadata": {
    "collapsed": false
   },
   "outputs": [],
   "source": [
    "model.save('type2vec')"
   ]
  },
  {
   "cell_type": "code",
   "execution_count": 30,
   "metadata": {
    "collapsed": false
   },
   "outputs": [
    {
     "name": "stdout",
     "output_type": "stream",
     "text": [
      "Doc2Vec(dm/s,d200,hs,w10,mc20,t10)\n"
     ]
    }
   ],
   "source": [
    "print model"
   ]
  },
  {
   "cell_type": "code",
   "execution_count": 63,
   "metadata": {
    "collapsed": false
   },
   "outputs": [
    {
     "data": {
      "text/plain": [
       "[(u'http://dbpedia.org/ontology/SportsLeague', 0.5504524111747742),\n",
       " (u'http://dbpedia.org/ontology/SocietalEvent', 0.5213335156440735),\n",
       " (u'http://dbpedia.org/ontology/Competition', 0.5008124709129333),\n",
       " (u'http://dbpedia.org/ontology/SoccerLeague', 0.4852045178413391),\n",
       " (u'http://dbpedia.org/ontology/MixedMartialArtsEvent', 0.4545764923095703),\n",
       " (u'http://dbpedia.org/ontology/SportsTeam', 0.4342324435710907),\n",
       " (u'http://dbpedia.org/ontology/BasketballLeague', 0.41861283779144287),\n",
       " (u'http://dbpedia.org/ontology/Athletics', 0.4140697419643402),\n",
       " (u'http://dbpedia.org/ontology/VolleyballPlayer', 0.40938347578048706),\n",
       " (u'http://dbpedia.org/ontology/Statistic', 0.39489471912384033)]"
      ]
     },
     "execution_count": 63,
     "metadata": {},
     "output_type": "execute_result"
    }
   ],
   "source": [
    "v = model.docvecs.most_similar('http://dbpedia.org/ontology/Sport')"
   ]
  },
  {
   "cell_type": "code",
   "execution_count": 36,
   "metadata": {
    "collapsed": true
   },
   "outputs": [],
   "source": [
    "v2 = model['city']"
   ]
  },
  {
   "cell_type": "code",
   "execution_count": 59,
   "metadata": {
    "collapsed": false,
    "scrolled": false
   },
   "outputs": [
    {
     "data": {
      "text/plain": [
       "[(u'serf', 0.5409256219863892),\n",
       " (u'appear', 0.5018793344497681),\n",
       " (u'reside', 0.49809926748275757),\n",
       " (u'perform', 0.48629438877105713),\n",
       " (u'reprise', 0.46818995475769043),\n",
       " (u'participate', 0.4547762870788574),\n",
       " (u'unattached', 0.4431641101837158),\n",
       " (u'represent', 0.4416590631008148),\n",
       " (u'serve', 0.4272077679634094),\n",
       " (u'employ', 0.4216696619987488)]"
      ]
     },
     "execution_count": 59,
     "metadata": {},
     "output_type": "execute_result"
    }
   ],
   "source": [
    "model.most_similar('play')"
   ]
  }
 ],
 "metadata": {
  "kernelspec": {
   "display_name": "Python 2",
   "language": "python",
   "name": "python2"
  },
  "language_info": {
   "codemirror_mode": {
    "name": "ipython",
    "version": 2.0
   },
   "file_extension": ".py",
   "mimetype": "text/x-python",
   "name": "python",
   "nbconvert_exporter": "python",
   "pygments_lexer": "ipython2",
   "version": "2.7.6"
  }
 },
 "nbformat": 4,
 "nbformat_minor": 0
}